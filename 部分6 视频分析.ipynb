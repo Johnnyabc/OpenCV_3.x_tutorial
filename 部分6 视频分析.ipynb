{
 "cells": [
  {
   "cell_type": "markdown",
   "metadata": {},
   "source": [
    "# 背景减除"
   ]
  },
  {
   "cell_type": "code",
   "execution_count": 3,
   "metadata": {
    "ExecuteTime": {
     "end_time": "2020-12-31T11:24:53.054640Z",
     "start_time": "2020-12-31T11:24:49.780567Z"
    }
   },
   "outputs": [
    {
     "name": "stdout",
     "output_type": "stream",
     "text": [
      "width: 768.0, height: 576.0\n",
      "duration: 79.5 s, count: 795.0, fps: 10.0\n"
     ]
    }
   ],
   "source": [
    "import cv2 as cv\n",
    "import numpy as np\n",
    "\n",
    "filename = 'data/vtest.avi'\n",
    "cap = cv.VideoCapture(filename)              # 0-摄像头输入/filename\n",
    "cv.namedWindow('image', cv.WINDOW_NORMAL)    # 设置显示窗口\n",
    "\n",
    "# 得到视频参数\n",
    "width, height = cap.get(3), cap.get(4)       # 视频帧宽高\n",
    "fps = cap.get(5)                             # 视频帧率\n",
    "count = cap.get(7)                           # 视频帧数\n",
    "duration = count / fps\n",
    "print(('width: {}, height: {}'.format(width, height)))\n",
    "print(('duration: %.1f s, count: %s, fps: %s' % (duration, count, fps)))\n",
    "# print('fourcc: ', chr(int(fourcc)))\n",
    "\n",
    "# fgbg = cv.createBackgroundSubtractorMOG2()  # 生成前景掩码的方法:MOG2/KNN   \n",
    "fgbg = cv.createBackgroundSubtractorKNN()     # 默认检测影子，detectShadows=True\n",
    "\n",
    "while cap.isOpened():               # 是否初始化摄像头\n",
    "    ret, frame = cap.read()         # 得到的frame可以当作图片来处理\n",
    "\n",
    "    # 视频左上角显示当前帧编号\n",
    "    cv.rectangle(frame, (10, 2), (50, 20), (255, 255, 255), -1)\n",
    "    cv.putText(frame, str(int(cap.get(cv.CAP_PROP_POS_FRAMES))),(15, 15), cv.FONT_HERSHEY_SIMPLEX, 0.5,(0,0,0),1, cv.LINE_AA)\n",
    "\n",
    "    if not ret:\n",
    "        break\n",
    "    # cv.imshow('frame', frame)     # 视频帧显示\n",
    "\n",
    "    # 前景掩模和背景提取\n",
    "    fgmask = fgbg.apply(frame)\n",
    "#     _, fgmask = cv.threshold(\n",
    "#         fgmask, 200, 255, cv.THRESH_BINARY)   # 阈值分割,去除脚下的影子\n",
    "\n",
    "    # 形态学滤波:去除噪点\n",
    "#     Element = cv.getStructuringElement(cv.MORPH_CROSS, (5, 5))\n",
    "#     Open = cv.morphologyEx(fgmask, cv.MORPH_OPEN, Element, 2)\n",
    "#     fgmask = cv.morphologyEx(Open, cv.MORPH_CLOSE, Element, 2)\n",
    "\n",
    "    # cv.imshow('fgmask', fgmask)       # 前景掩模\n",
    "    bgImage = fgbg.getBackgroundImage()\n",
    "    # cv.imshow('background', bgImage)  # 背景视频\n",
    "\n",
    "    fgmask = cv.cvtColor(fgmask, cv.COLOR_GRAY2BGR)\n",
    "    dst = np.hstack((frame, fgmask))   # frame, fgmask, bgImage\n",
    "    # print(frame.shape, fgmask.shape, bgImage.shape)\n",
    "    cv.imshow('image', dst)\n",
    "\n",
    "    key = cv.waitKey(int(1000 / fps))      # 30 设置视频的播放速度:与原视频相同\n",
    "    if key == 27:                          # ESC的ASCII码为27\n",
    "        break\n",
    "    elif key == ord('s'):        # 截取帧并保存\n",
    "        cv.imwrite('frame.png', frame)\n",
    "        cv.imwrite('fgmask.png', fgmask)\n",
    "\n",
    "cap.release()\n",
    "cv.destroyAllWindows()"
   ]
  },
  {
   "cell_type": "markdown",
   "metadata": {},
   "source": [
    "# Meanshift和Camshift\n",
    "视频对象跟踪\n",
    "- cv.meanShift()\n",
    "- cv.CamShift()\n",
    "\n",
    "## Meanshift"
   ]
  },
  {
   "cell_type": "code",
   "execution_count": 1,
   "metadata": {
    "ExecuteTime": {
     "end_time": "2020-12-31T09:42:20.360319Z",
     "start_time": "2020-12-31T09:41:49.101627Z"
    }
   },
   "outputs": [],
   "source": [
    "import numpy as np\n",
    "import cv2 as cv\n",
    "\n",
    "cap = cv.VideoCapture('data/slow_traffic_small.mp4')\n",
    "\n",
    "ret, frame = cap.read()         # 获取视频的第一帧\n",
    "# 设置ROI b-box的初始位置\n",
    "x, y, w, h = 300, 200, 100, 50  # simply hardcoded the values\n",
    "track_window = (x, y, w, h)\n",
    "\n",
    "# 得到ROI图像\n",
    "roi = frame[y:y + h, x:x + w]\n",
    "hsv_roi = cv.cvtColor(roi, cv.COLOR_BGR2HSV)\n",
    "\n",
    "# 得到ROI图像的归一化直方图\n",
    "mask = cv.inRange(hsv_roi, np.array((0., 60., 32.)),\n",
    "                  np.array((180., 255., 255.)))\n",
    "roi_hist = cv.calcHist([hsv_roi], [0], mask, [180], [0, 180])\n",
    "cv.normalize(roi_hist, roi_hist, 0, 255, cv.NORM_MINMAX)\n",
    "\n",
    "# 设置迭代终止条件，可以是10次迭代，有可以至少移动1个像素\n",
    "term_crit = (cv.TERM_CRITERIA_EPS | cv.TERM_CRITERIA_COUNT, 10, 1)\n",
    "\n",
    "while (1):\n",
    "    ret, frame = cap.read()\n",
    "    \n",
    "    if ret == True:\n",
    "        hsv = cv.cvtColor(frame, cv.COLOR_BGR2HSV)\n",
    "        dst = cv.calcBackProject([hsv], [0], roi_hist, [0, 180], 1)      # 直方图反投影\n",
    "        ret, track_window = cv.meanShift(dst, track_window, term_crit)   # 应用meanshift来获取track_window的新位置\n",
    "        # dst—ROI的直方图反投影图  track_window—ROI b-box坐标  term_crit—迭代终止条件\n",
    "        \n",
    "        # 在图像上绘制ROI b-box\n",
    "        x, y, w, h = track_window\n",
    "        img2 = cv.rectangle(frame, (x, y), (x + w, y + h), 255, 2)\n",
    "        cv.imshow('img2', img2)\n",
    "        k = cv.waitKey(30) & 0xff\n",
    "        if k == 27:\n",
    "            break\n",
    "    else:\n",
    "        break\n",
    "\n",
    "cap.release()\n",
    "cv.destroyAllWindows()"
   ]
  },
  {
   "cell_type": "markdown",
   "metadata": {},
   "source": [
    "## Camshift\n",
    "可以自适应地更新跟踪窗口的大小"
   ]
  },
  {
   "cell_type": "code",
   "execution_count": 2,
   "metadata": {
    "ExecuteTime": {
     "end_time": "2020-12-31T09:33:51.620939Z",
     "start_time": "2020-12-31T09:33:20.438634Z"
    }
   },
   "outputs": [],
   "source": [
    "import numpy as np\n",
    "import cv2 as cv\n",
    "import argparse\n",
    "\n",
    "cap = cv.VideoCapture('data/slow_traffic_small.mp4')\n",
    "\n",
    "ret, frame = cap.read()         # 获取视频的第一帧\n",
    "\n",
    "# 设置ROI b-box的初始位置\n",
    "x, y, w, h = 300, 200, 100, 50  # simply hardcoded the values\n",
    "track_window = (x, y, w, h)\n",
    "\n",
    "# 得到ROI图像\n",
    "roi = frame[y:y+h, x:x+w]\n",
    "hsv_roi = cv.cvtColor(roi, cv.COLOR_BGR2HSV)\n",
    "\n",
    "# 得到ROI图像的归一化直方图\n",
    "mask = cv.inRange(hsv_roi, np.array((0., 60., 32.)),\n",
    "                  np.array((180., 255., 255.)))\n",
    "roi_hist = cv.calcHist([hsv_roi], [0], mask, [180], [0, 180])\n",
    "cv.normalize(roi_hist, roi_hist, 0, 255, cv.NORM_MINMAX)\n",
    "\n",
    "# 设置迭代终止条件，可以是10次迭代，有可以至少移动1个像素\n",
    "term_crit = (cv.TERM_CRITERIA_EPS | cv.TERM_CRITERIA_COUNT, 10, 1)\n",
    "\n",
    "while(1):\n",
    "    ret, frame = cap.read()\n",
    "    if ret == True:\n",
    "        hsv = cv.cvtColor(frame, cv.COLOR_BGR2HSV)\n",
    "        dst = cv.calcBackProject([hsv], [0], roi_hist, [0, 180], 1)     # 直方图反投影\n",
    "        ret, track_window = cv.CamShift(dst, track_window, term_crit)   # 应用meanshift来获取track_window的新位置\n",
    "        # dst—ROI的直方图反投影图  track_window—ROI b-box坐标  term_crit—迭代终止条件\n",
    "        # 返回ret包含ROI的坐标点信息\n",
    "        \n",
    "        # 在图像上绘制ROI b-box\n",
    "        pts = cv.boxPoints(ret)\n",
    "        pts = np.int0(pts)\n",
    "        img2 = cv.polylines(frame, [pts], True, 255, 2)\n",
    "        cv.imshow('img2', img2)\n",
    "        k = cv.waitKey(30) & 0xff\n",
    "        if k == 27:\n",
    "            break\n",
    "    else:\n",
    "        break\n",
    "\n",
    "cap.release()\n",
    "cv.destroyAllWindows()"
   ]
  },
  {
   "cell_type": "markdown",
   "metadata": {},
   "source": [
    "# 光流\n",
    "## OpenCV中的Lucas-Kanade\n",
    "cv.calcOpticalFlowPyrLK()"
   ]
  },
  {
   "cell_type": "code",
   "execution_count": 1,
   "metadata": {
    "ExecuteTime": {
     "end_time": "2021-05-14T03:04:51.207469Z",
     "start_time": "2021-05-14T03:04:46.729258Z"
    }
   },
   "outputs": [],
   "source": [
    "import numpy as np\n",
    "import cv2 as cv\n",
    "import argparse\n",
    "\n",
    "cap = cv.VideoCapture('data/slow_traffic_small.mp4')\n",
    "# 用于Shi-Tomasi角点检测的参数\n",
    "feature_params = dict( maxCorners = 100,\n",
    "                       qualityLevel = 0.3,\n",
    "                       minDistance = 7,\n",
    "                       blockSize = 7 )\n",
    "# lucas kanade光流参数\n",
    "lk_params = dict( winSize  = (15,15),\n",
    "                  maxLevel = 2,\n",
    "                  criteria = (cv.TERM_CRITERIA_EPS | cv.TERM_CRITERIA_COUNT, 10, 0.03))\n",
    "\n",
    "color = np.random.randint(0,255,(100,3))    # 为检测到的角点创建随机颜色\n",
    "ret, old_frame = cap.read()                 # 获取视频的第一帧\n",
    "old_gray = cv.cvtColor(old_frame, cv.COLOR_BGR2GRAY)\n",
    "p0 = cv.goodFeaturesToTrack(old_gray, mask = None, **feature_params)   # 第1帧进行Shi-Tomasi角点检测\n",
    "\n",
    "mask = np.zeros_like(old_frame)    # mask:用于绘制关键点连线\n",
    "while(1):\n",
    "    ret,frame = cap.read()\n",
    "    if ret == True:\n",
    "        frame_gray = cv.cvtColor(frame, cv.COLOR_BGR2GRAY)\n",
    "        # 利用相邻两帧计算光流\n",
    "        p1, st, err = cv.calcOpticalFlowPyrLK(old_gray, frame_gray, p0, None, **lk_params)\n",
    "        '''Lucas Kanade光流法参数\n",
    "        p1: p0在当前帧进行光流检测后的位置\n",
    "        st: 是否是运动的角点\n",
    "        err: 是否出错\n",
    "        old_gray: 之前进行角点检测的帧\n",
    "        frame_gray: 当前帧\n",
    "        p0: 之前帧检测到的角点'''\n",
    "        \n",
    "        # 选择良好点:运动角点\n",
    "        good_new = p1[st==1]\n",
    "        good_old = p0[st==1]\n",
    "        # 绘制跟踪点\n",
    "        for i,(new,old) in enumerate(zip(good_new, good_old)):\n",
    "            a,b = new.ravel()\n",
    "            c,d = old.ravel()\n",
    "            mask = cv.line(mask, (a,b),(c,d), color[i].tolist(), 2)\n",
    "            frame = cv.circle(frame,(a,b),5,color[i].tolist(),-1)\n",
    "        img = cv.add(frame,mask)\n",
    "        cv.imshow('frame',img)\n",
    "        k = cv.waitKey(30) & 0xff\n",
    "        if k == 27:\n",
    "            break\n",
    "        # 现在更新之前的帧和点\n",
    "        old_gray = frame_gray.copy()\n",
    "        p0 = good_new.reshape(-1,1,2)\n",
    "    else:\n",
    "        break\n",
    "    \n",
    "cap.release()\n",
    "cv.destroyAllWindows()"
   ]
  },
  {
   "cell_type": "markdown",
   "metadata": {},
   "source": [
    "## OpenCV中的密集光流\n",
    "cv.calcOpticalFlowFarneback()"
   ]
  },
  {
   "cell_type": "code",
   "execution_count": 2,
   "metadata": {
    "ExecuteTime": {
     "end_time": "2021-05-14T03:04:55.860007Z",
     "start_time": "2021-05-14T03:04:53.791278Z"
    }
   },
   "outputs": [],
   "source": [
    "import numpy as np\n",
    "import cv2 as cv\n",
    "cap = cv.VideoCapture('data/vtest.avi')\n",
    "ret, frame1 = cap.read()\n",
    "prvs = cv.cvtColor(frame1, cv.COLOR_BGR2GRAY)\n",
    "hsv = np.zeros_like(frame1)\n",
    "hsv[..., 1] = 255  \n",
    "\n",
    "while (1):\n",
    "    ret, frame2 = cap.read()\n",
    "    if ret == True:\n",
    "        next = cv.cvtColor(frame2, cv.COLOR_BGR2GRAY)\n",
    "        flow = cv.calcOpticalFlowFarneback(prvs, next, None, 0.5, 3, 15, 3, 5, 1.2, 0)\n",
    "        '''\n",
    "        前两个参数与上述参数一样，第三个参数跟返回值一样\n",
    "        prvs, next     上一帧和当前帧图像(单通道)\n",
    "        pyr_scale=0.5  构建图像金字塔尺度\n",
    "        levels=3       图像金字塔层数\n",
    "        winsize=15     窗口尺寸,值越大探测高速运动的物体越容易，但是越模糊，同时对噪声的容错性越强\n",
    "        iterations=3   对每层金字塔的迭代次数\n",
    "        poly_n=5       每个像素中找到多项式展开的邻域像素的大小。越大越光滑，也越稳定\n",
    "        poly_sigma=1.2 高斯标准差，用来平滑倒数\n",
    "        flags=0        光流的方式，有OPTFLOW_USE_INITIAL_FLOW 和OPTFLOW_FARNEBACK_GAUSSIAN 两种\n",
    "        flow           返回关键点的坐标\n",
    "        '''\n",
    "        mag, ang = cv.cartToPolar(flow[..., 0], flow[..., 1])\n",
    "        # 笛卡尔坐标->极坐标\n",
    "        # mag-极径 ang-幅角(rad)  x坐标list, y坐标list\n",
    "        hsv[..., 0] = ang * 180 / np.pi / 2                            # rad->°\n",
    "        hsv[..., 2] = cv.normalize(mag, None, 0, 255, cv.NORM_MINMAX)  # 数值归一化\n",
    "        bgr = cv.cvtColor(hsv, cv.COLOR_HSV2BGR)\n",
    "        cv.imshow('frame2', bgr)\n",
    "        k = cv.waitKey(30) & 0xff\n",
    "        if k == 27:\n",
    "            break\n",
    "        elif k == ord('s'):\n",
    "            cv.imwrite('opticalfb.png', frame2)\n",
    "            cv.imwrite('opticalhsv.png', bgr)\n",
    "        prvs = next\n",
    "    else:\n",
    "        break\n",
    "\n",
    "cap.release()\n",
    "cv.destroyAllWindows()"
   ]
  },
  {
   "cell_type": "code",
   "execution_count": null,
   "metadata": {},
   "outputs": [],
   "source": []
  }
 ],
 "metadata": {
  "kernelspec": {
   "display_name": "Python 3",
   "language": "python",
   "name": "python3"
  },
  "language_info": {
   "codemirror_mode": {
    "name": "ipython",
    "version": 3
   },
   "file_extension": ".py",
   "mimetype": "text/x-python",
   "name": "python",
   "nbconvert_exporter": "python",
   "pygments_lexer": "ipython3",
   "version": "3.7.8"
  },
  "nbTranslate": {
   "displayLangs": [
    "*"
   ],
   "hotkey": "alt-t",
   "langInMainMenu": true,
   "sourceLang": "en",
   "targetLang": "fr",
   "useGoogleTranslate": true
  },
  "toc": {
   "base_numbering": 1,
   "nav_menu": {},
   "number_sections": true,
   "sideBar": true,
   "skip_h1_title": false,
   "title_cell": "Table of Contents",
   "title_sidebar": "Contents",
   "toc_cell": false,
   "toc_position": {},
   "toc_section_display": true,
   "toc_window_display": true
  },
  "varInspector": {
   "cols": {
    "lenName": 16,
    "lenType": 16,
    "lenVar": 40
   },
   "kernels_config": {
    "python": {
     "delete_cmd_postfix": "",
     "delete_cmd_prefix": "del ",
     "library": "var_list.py",
     "varRefreshCmd": "print(var_dic_list())"
    },
    "r": {
     "delete_cmd_postfix": ") ",
     "delete_cmd_prefix": "rm(",
     "library": "var_list.r",
     "varRefreshCmd": "cat(var_dic_list()) "
    }
   },
   "types_to_exclude": [
    "module",
    "function",
    "builtin_function_or_method",
    "instance",
    "_Feature"
   ],
   "window_display": false
  }
 },
 "nbformat": 4,
 "nbformat_minor": 4
}
