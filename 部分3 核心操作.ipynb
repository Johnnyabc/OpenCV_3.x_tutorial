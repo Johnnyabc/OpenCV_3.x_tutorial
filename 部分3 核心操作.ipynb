{
 "cells": [
  {
   "cell_type": "markdown",
   "metadata": {},
   "source": [
    "# 图像的基础操作"
   ]
  },
  {
   "cell_type": "markdown",
   "metadata": {},
   "source": [
    "## 访问和修改像素值"
   ]
  },
  {
   "cell_type": "code",
   "execution_count": 1,
   "metadata": {
    "ExecuteTime": {
     "end_time": "2020-12-22T02:32:36.923364Z",
     "start_time": "2020-12-22T02:32:36.893357Z"
    }
   },
   "outputs": [],
   "source": [
    "import numpy as np\n",
    "import cv2 as cv\n",
    "img = cv.imread('data/messi5.jpg')"
   ]
  },
  {
   "cell_type": "code",
   "execution_count": 2,
   "metadata": {
    "ExecuteTime": {
     "end_time": "2020-12-22T02:32:39.191545Z",
     "start_time": "2020-12-22T02:32:39.172003Z"
    }
   },
   "outputs": [
    {
     "data": {
      "text/plain": [
       "array([59, 65, 72], dtype=uint8)"
      ]
     },
     "execution_count": 2,
     "metadata": {},
     "output_type": "execute_result"
    }
   ],
   "source": [
    "# 访问坐标为[100,100]的BGR通道的像素值\n",
    "px = img[100,100]\n",
    "px "
   ]
  },
  {
   "cell_type": "code",
   "execution_count": 3,
   "metadata": {
    "ExecuteTime": {
     "end_time": "2020-12-22T02:32:39.769276Z",
     "start_time": "2020-12-22T02:32:39.764289Z"
    }
   },
   "outputs": [
    {
     "data": {
      "text/plain": [
       "59"
      ]
     },
     "execution_count": 3,
     "metadata": {},
     "output_type": "execute_result"
    }
   ],
   "source": [
    "# 仅访问蓝色通道\n",
    "blue = img[100,100,0]\n",
    "blue "
   ]
  },
  {
   "cell_type": "code",
   "execution_count": 4,
   "metadata": {
    "ExecuteTime": {
     "end_time": "2020-12-22T02:32:42.461773Z",
     "start_time": "2020-12-22T02:32:40.412379Z"
    }
   },
   "outputs": [],
   "source": [
    "# 修改某坐标点的像素值\n",
    "img[100,100] = [255,255,255]\n",
    "img[100,100] \n",
    "\n",
    "cv.imshow('modify1', img)\n",
    "cv.waitKey(0)\n",
    "cv.destroyAllWindows()"
   ]
  },
  {
   "cell_type": "markdown",
   "metadata": {},
   "source": [
    "## numpy方法快速访问和修改像素点"
   ]
  },
  {
   "cell_type": "code",
   "execution_count": 5,
   "metadata": {
    "ExecuteTime": {
     "end_time": "2020-12-22T02:32:44.377785Z",
     "start_time": "2020-12-22T02:32:44.372343Z"
    }
   },
   "outputs": [
    {
     "data": {
      "text/plain": [
       "255"
      ]
     },
     "execution_count": 5,
     "metadata": {},
     "output_type": "execute_result"
    }
   ],
   "source": [
    "# 访问蓝色通道\n",
    "img.item(100,100,0)"
   ]
  },
  {
   "cell_type": "code",
   "execution_count": 6,
   "metadata": {
    "ExecuteTime": {
     "end_time": "2020-12-22T02:32:45.002349Z",
     "start_time": "2020-12-22T02:32:44.996365Z"
    }
   },
   "outputs": [
    {
     "data": {
      "text/plain": [
       "100"
      ]
     },
     "execution_count": 6,
     "metadata": {},
     "output_type": "execute_result"
    }
   ],
   "source": [
    "# 修改某坐标点的像素值\n",
    "img.itemset((10,10,2),100)\n",
    "img.item(10,10,2)"
   ]
  },
  {
   "cell_type": "markdown",
   "metadata": {},
   "source": [
    "## 访问图像属性"
   ]
  },
  {
   "cell_type": "code",
   "execution_count": 7,
   "metadata": {
    "ExecuteTime": {
     "end_time": "2020-12-22T02:32:45.944989Z",
     "start_time": "2020-12-22T02:32:45.940002Z"
    }
   },
   "outputs": [
    {
     "data": {
      "text/plain": [
       "(280, 450, 3)"
      ]
     },
     "execution_count": 7,
     "metadata": {},
     "output_type": "execute_result"
    }
   ],
   "source": [
    "# 图像的形状\n",
    "img.shape"
   ]
  },
  {
   "cell_type": "code",
   "execution_count": 8,
   "metadata": {
    "ExecuteTime": {
     "end_time": "2020-12-22T02:32:46.488732Z",
     "start_time": "2020-12-22T02:32:46.484773Z"
    }
   },
   "outputs": [
    {
     "data": {
      "text/plain": [
       "378000"
      ]
     },
     "execution_count": 8,
     "metadata": {},
     "output_type": "execute_result"
    }
   ],
   "source": [
    "# 图像的像素总数\n",
    "img.size"
   ]
  },
  {
   "cell_type": "markdown",
   "metadata": {},
   "source": [
    "【注意】**img.dtype在调试时非常重要，因为OpenCV-Python代码中的大量错误是由无效的数据类型引起的**"
   ]
  },
  {
   "cell_type": "code",
   "execution_count": 9,
   "metadata": {
    "ExecuteTime": {
     "end_time": "2020-12-22T02:32:48.569332Z",
     "start_time": "2020-12-22T02:32:48.564344Z"
    }
   },
   "outputs": [
    {
     "data": {
      "text/plain": [
       "dtype('uint8')"
      ]
     },
     "execution_count": 9,
     "metadata": {},
     "output_type": "execute_result"
    }
   ],
   "source": [
    "# 图像数据类型/位深度\n",
    "img.dtype"
   ]
  },
  {
   "cell_type": "markdown",
   "metadata": {},
   "source": [
    "## 图像感兴趣区域ROI"
   ]
  },
  {
   "cell_type": "code",
   "execution_count": 10,
   "metadata": {
    "ExecuteTime": {
     "end_time": "2020-12-22T02:32:51.153372Z",
     "start_time": "2020-12-22T02:32:50.284505Z"
    }
   },
   "outputs": [],
   "source": [
    "import numpy as np\n",
    "import cv2 as cv\n",
    "img = cv.imread('data/messi5.jpg')\n",
    "\n",
    "ball = img[220:280, 270:330]    # ROI\n",
    "img[220:280, 80:140] = ball \n",
    "\n",
    "cv.imshow('ROI', img)\n",
    "cv.waitKey(0)\n",
    "cv.destroyAllWindows()"
   ]
  },
  {
   "cell_type": "markdown",
   "metadata": {},
   "source": [
    "## 拆分和合并图像通道"
   ]
  },
  {
   "cell_type": "code",
   "execution_count": 11,
   "metadata": {
    "ExecuteTime": {
     "end_time": "2020-12-22T02:32:52.685736Z",
     "start_time": "2020-12-22T02:32:52.676763Z"
    }
   },
   "outputs": [],
   "source": [
    "b,g,r = cv.split(img)\n",
    "img = cv.merge((b,g,r))"
   ]
  },
  {
   "cell_type": "markdown",
   "metadata": {
    "ExecuteTime": {
     "end_time": "2020-12-19T16:13:11.068244Z",
     "start_time": "2020-12-19T16:13:11.060756Z"
    }
   },
   "source": [
    "cv.split()是一项耗时的操作（就时间而言）。因此，仅在必要时才这样做。否则请进行Numpy索引"
   ]
  },
  {
   "cell_type": "code",
   "execution_count": 12,
   "metadata": {
    "ExecuteTime": {
     "end_time": "2020-12-22T02:32:53.713377Z",
     "start_time": "2020-12-22T02:32:53.708390Z"
    }
   },
   "outputs": [],
   "source": [
    "img[:, :, 0] = 0\n",
    "img[:, :, 1] = 0\n",
    "img[:, :, 2] = 0"
   ]
  },
  {
   "cell_type": "code",
   "execution_count": 13,
   "metadata": {
    "ExecuteTime": {
     "end_time": "2020-12-22T02:32:55.847959Z",
     "start_time": "2020-12-22T02:32:55.060103Z"
    }
   },
   "outputs": [],
   "source": [
    "import numpy as np\n",
    "import cv2 as cv\n",
    "img = cv.imread('data/messi5.jpg')\n",
    "\n",
    "# 修改某通道的像素值\n",
    "# pixel = np.zeros((280,450),np.uint8)\n",
    "# img[..., 2]=pixel        # 修改R通道像素值\n",
    "\n",
    "img[:, :, 2] = 0           # 直接赋值\n",
    "\n",
    "cv.imshow('modify2', img)\n",
    "cv.waitKey(0)\n",
    "cv.destroyAllWindows()"
   ]
  },
  {
   "cell_type": "markdown",
   "metadata": {
    "ExecuteTime": {
     "end_time": "2020-12-19T16:28:30.794531Z",
     "start_time": "2020-12-19T16:28:30.785967Z"
    }
   },
   "source": [
    "## 为图像设置边框（填充）\n",
    "cv.copyMakeBorder()"
   ]
  },
  {
   "cell_type": "code",
   "execution_count": 14,
   "metadata": {
    "ExecuteTime": {
     "end_time": "2020-12-22T02:32:58.412174Z",
     "start_time": "2020-12-22T02:32:57.524377Z"
    }
   },
   "outputs": [
    {
     "data": {
      "image/png": "[encoded data removed]",
      "text/plain": [
       "<Figure size 1296x864 with 6 Axes>"
      ]
     },
     "metadata": {
      "needs_background": "light"
     },
     "output_type": "display_data"
    }
   ],
   "source": [
    "import cv2 as cv\n",
    "import numpy as np\n",
    "from matplotlib import pyplot as plt\n",
    "\n",
    "BLUE = [0,0,255]\n",
    "img = cv.imread('data/opencv-logo.png')\n",
    "img1 = cv.cvtColor(img, cv.COLOR_BGR2RGB)\n",
    "\n",
    "replicate = cv.copyMakeBorder(img1,10,10,10,10,cv.BORDER_REPLICATE)          # 复制边界填充\n",
    "reflect = cv.copyMakeBorder(img1,10,10,10,10,cv.BORDER_REFLECT)              # 边界对称填充\n",
    "reflect101 = cv.copyMakeBorder(img1,10,10,10,10,cv.BORDER_REFLECT_101)       # 边界对称填充 cb|abcdefgh|gf\n",
    "wrap = cv.copyMakeBorder(img1,10,10,10,10,cv.BORDER_WRAP)                    # 反向边界对称填充\n",
    "constant= cv.copyMakeBorder(img1,10,10,10,10,cv.BORDER_CONSTANT,value=BLUE)  # 固定颜色填充，需要指定颜色\n",
    "# img1-输入图像,10,10,10,10-top，bottom，left，right 边界宽度, 边框填充模式, 边框颜色\n",
    "\n",
    "plt.figure(figsize=(18,12))\n",
    "plt.subplot(231),plt.imshow(img1,'gray'),plt.title('ORIGINAL')\n",
    "plt.subplot(232),plt.imshow(replicate,'gray'),plt.title('REPLICATE')\n",
    "plt.subplot(233),plt.imshow(reflect,'gray'),plt.title('REFLECT')\n",
    "plt.subplot(234),plt.imshow(reflect101,'gray'),plt.title('REFLECT_101')\n",
    "plt.subplot(235),plt.imshow(wrap,'gray'),plt.title('WRAP')\n",
    "plt.subplot(236),plt.imshow(constant,'gray'),plt.title('CONSTANT')\n",
    "plt.show()"
   ]
  },
  {
   "cell_type": "markdown",
   "metadata": {},
   "source": [
    "# 图像上的算术运算\n",
    "cv.add()，cv.addWeighted()"
   ]
  },
  {
   "cell_type": "markdown",
   "metadata": {},
   "source": [
    "## 图像加法"
   ]
  },
  {
   "cell_type": "markdown",
   "metadata": {
    "ExecuteTime": {
     "end_time": "2020-12-19T17:31:11.601926Z",
     "start_time": "2020-12-19T17:31:11.586974Z"
    }
   },
   "source": [
    "【注意】 OpenCV加法和Numpy加法之间有区别。OpenCV加法是饱和运算，而Numpy加法是模运算\n",
    "\n",
    "两个图像应具有**相同的深度和类型**，或者第二个图像可以只是一个**标量值**"
   ]
  },
  {
   "cell_type": "code",
   "execution_count": 15,
   "metadata": {
    "ExecuteTime": {
     "end_time": "2020-12-22T02:33:04.912924Z",
     "start_time": "2020-12-22T02:33:04.907938Z"
    }
   },
   "outputs": [
    {
     "name": "stdout",
     "output_type": "stream",
     "text": [
      "[[255]]\n",
      "[4]\n",
      "[4]\n"
     ]
    }
   ],
   "source": [
    "x = np.uint8([250])\n",
    "y = np.uint8([10])\n",
    "z = 10\n",
    "print(cv.add(x,y))    # 250+10 = 260 => 255\n",
    "print(x+y)            # 250+10 = 260 % 256 = 4\n",
    "print(x+z)"
   ]
  },
  {
   "cell_type": "markdown",
   "metadata": {},
   "source": [
    "## 图像融合"
   ]
  },
  {
   "cell_type": "code",
   "execution_count": 16,
   "metadata": {
    "ExecuteTime": {
     "end_time": "2020-12-22T02:33:14.622362Z",
     "start_time": "2020-12-22T02:33:06.860266Z"
    }
   },
   "outputs": [],
   "source": [
    "img1 = cv.imread('data/ml.png')\n",
    "img2 = cv.imread('data/opencv-logo.png')\n",
    "\n",
    "h, w = img2.shape[0], img2.shape[1]  # img1->img3\n",
    "img3 = cv.resize(img1, (w, h))\n",
    "\n",
    "dst = cv.addWeighted(img2, 0.7, img3, 0.3, 0)    # γ=0\n",
    "cv.imshow('dst',dst)\n",
    "cv.waitKey(0)\n",
    "cv.destroyAllWindows()"
   ]
  },
  {
   "cell_type": "markdown",
   "metadata": {},
   "source": [
    "## 按位运算\n",
    "- cv.bitwise_and() \n",
    "- cv.bitwise_or() \n",
    "- cv.bitwise_xor() \n",
    "- cv.bitwise_not()\n",
    "\n",
    "**当我们提取图像的一部分，选择非矩形ROI 时这些操作会很有用**"
   ]
  },
  {
   "cell_type": "code",
   "execution_count": 17,
   "metadata": {
    "ExecuteTime": {
     "end_time": "2020-12-22T02:33:48.479030Z",
     "start_time": "2020-12-22T02:33:44.756229Z"
    }
   },
   "outputs": [],
   "source": [
    "import cv2 as cv\n",
    "# 加载两张图片\n",
    "img1 = cv.imread('data/messi5.jpg')\n",
    "img2 = cv.imread('data/opencv-logo-white.png')\n",
    "\n",
    "# 我想把img2的logo放在左上角，所以我创建了ROI\n",
    "rows,cols,channels = img2.shape\n",
    "roi = img1[0:rows, 0:cols]\n",
    "\n",
    "img2gray = cv.cvtColor(img2,cv.COLOR_BGR2GRAY)\n",
    "\n",
    "ret, mask = cv.threshold(img2gray, 10, 255, cv.THRESH_BINARY)  # 现在创建logo的掩码，并同时创建其相反掩码\n",
    "img2_fg = cv.bitwise_and(img2,img2,mask = mask)                # 将logo放入ROI并修改主图像\n",
    "\n",
    "mask_inv = cv.bitwise_not(mask)                     # 现在将ROI中logo的区域涂黑\n",
    "img1_bg = cv.bitwise_and(roi,roi,mask = mask_inv)   # 仅从logo图像中提取logo区域\n",
    "\n",
    "dst = cv.add(img1_bg,img2_fg)\n",
    "img1[0:rows, 0:cols ] = dst\n",
    "\n",
    "# cv.imshow('mask',mask)\n",
    "cv.imshow('img2_fg',img2_fg)\n",
    "\n",
    "# cv.imshow('mask_inv',mask_inv)\n",
    "cv.imshow('img1_bg',img1_bg)\n",
    "\n",
    "cv.imshow('res',img1)\n",
    "cv.waitKey(0)\n",
    "cv.destroyAllWindows()"
   ]
  },
  {
   "cell_type": "markdown",
   "metadata": {},
   "source": [
    "# 程序性能检测及优化\n",
    "cv2.getTickCount(),cv2.getTickFrequency()"
   ]
  },
  {
   "cell_type": "markdown",
   "metadata": {},
   "source": [
    "```\n",
    "e1 = cv.getTickCount()\n",
    "# your code\n",
    "e2 = cv.getTickCount()\n",
    "time = (e2 - e1)/ cv.getTickFrequency()\n",
    "```"
   ]
  },
  {
   "cell_type": "code",
   "execution_count": 18,
   "metadata": {
    "ExecuteTime": {
     "end_time": "2020-12-22T02:33:51.647875Z",
     "start_time": "2020-12-22T02:33:51.444187Z"
    }
   },
   "outputs": [
    {
     "name": "stdout",
     "output_type": "stream",
     "text": [
      "elpased time: 0.196s\n"
     ]
    }
   ],
   "source": [
    "# 返回程序运行时间\n",
    "img1 = cv.imread('data/messi5.jpg')\n",
    "e1 = cv.getTickCount()\n",
    "for i in range(5, 49, 2):\n",
    "    img1 = cv.medianBlur(img1, i)\n",
    "e2 = cv.getTickCount()\n",
    "t = (e2 - e1) / cv.getTickFrequency()\n",
    "print('elpased time: {:.3f}s'.format(t))"
   ]
  },
  {
   "cell_type": "markdown",
   "metadata": {},
   "source": [
    "# OpenCV中的默认优化\n",
    "cv.useOptimized(),cv.setUseOptimized()"
   ]
  },
  {
   "cell_type": "code",
   "execution_count": 19,
   "metadata": {
    "ExecuteTime": {
     "end_time": "2020-12-22T02:33:55.441490Z",
     "start_time": "2020-12-22T02:33:55.436457Z"
    }
   },
   "outputs": [
    {
     "data": {
      "text/plain": [
       "True"
      ]
     },
     "execution_count": 19,
     "metadata": {},
     "output_type": "execute_result"
    }
   ],
   "source": [
    "# 检查OpenCV是否启用了代码优化\n",
    "cv.useOptimized()"
   ]
  },
  {
   "cell_type": "code",
   "execution_count": 20,
   "metadata": {
    "ExecuteTime": {
     "end_time": "2020-12-22T02:33:56.077393Z",
     "start_time": "2020-12-22T02:33:56.060105Z"
    }
   },
   "outputs": [],
   "source": [
    "%timeit \n",
    "img = cv.imread('data/messi5.jpg')\n",
    "res = cv.medianBlur(img,49)"
   ]
  },
  {
   "cell_type": "code",
   "execution_count": 21,
   "metadata": {
    "ExecuteTime": {
     "end_time": "2020-12-22T02:33:57.164159Z",
     "start_time": "2020-12-22T02:33:57.156180Z"
    }
   },
   "outputs": [
    {
     "data": {
      "text/plain": [
       "False"
      ]
     },
     "execution_count": 21,
     "metadata": {},
     "output_type": "execute_result"
    }
   ],
   "source": [
    "# 关闭它\n",
    "cv.setUseOptimized(False)\n",
    "cv.useOptimized()"
   ]
  },
  {
   "cell_type": "code",
   "execution_count": 22,
   "metadata": {
    "ExecuteTime": {
     "end_time": "2020-12-22T02:33:57.982781Z",
     "start_time": "2020-12-22T02:33:57.964193Z"
    }
   },
   "outputs": [],
   "source": [
    "%timeit \n",
    "img = cv.imread('data/messi5.jpg')\n",
    "res = cv.medianBlur(img,49)"
   ]
  },
  {
   "cell_type": "markdown",
   "metadata": {},
   "source": [
    "# 在IPython中衡量性能\n",
    "【注意】通常，OpenCV函数比Numpy函数要快。因此，对于相同的操作，首选OpenCV功能。但是，可能会有例外，尤其是当Numpy处理视图而不是副本时\n",
    "\n",
    "【注意】Python 的标量计算比Numpy的标量计算要快。对于仅包含一两个元素的操作Python 标量比Numpy 的数组要快。但是当数组稍微大一点时Numpy 就会胜出了。"
   ]
  },
  {
   "cell_type": "markdown",
   "metadata": {},
   "source": [
    "# 性能优化技术\n",
    "- 尽量避免在Python中使用循环，尤其是双/三重循环等。它们本来就很慢。\n",
    "- 由于Numpy和OpenCV已针对向量运算进行了优化，因此将算法/代码向量化到最大程度。\n",
    "- 利用缓存一致性。\n",
    "- **除非需要，否则切勿创建数组的副本**。尝试改用视图。数组复制是一项昂贵的操作。"
   ]
  },
  {
   "cell_type": "code",
   "execution_count": null,
   "metadata": {},
   "outputs": [],
   "source": []
  }
 ],
 "metadata": {
  "kernelspec": {
   "display_name": "Python 3",
   "language": "python",
   "name": "python3"
  },
  "language_info": {
   "codemirror_mode": {
    "name": "ipython",
    "version": 3
   },
   "file_extension": ".py",
   "mimetype": "text/x-python",
   "name": "python",
   "nbconvert_exporter": "python",
   "pygments_lexer": "ipython3",
   "version": "3.7.8"
  },
  "nbTranslate": {
   "displayLangs": [
    "*"
   ],
   "hotkey": "alt-t",
   "langInMainMenu": true,
   "sourceLang": "en",
   "targetLang": "fr",
   "useGoogleTranslate": true
  },
  "toc": {
   "base_numbering": 1,
   "nav_menu": {},
   "number_sections": true,
   "sideBar": true,
   "skip_h1_title": false,
   "title_cell": "Table of Contents",
   "title_sidebar": "Contents",
   "toc_cell": false,
   "toc_position": {
    "height": "calc(100% - 180px)",
    "left": "10px",
    "top": "150px",
    "width": "277.2px"
   },
   "toc_section_display": true,
   "toc_window_display": true
  },
  "varInspector": {
   "cols": {
    "lenName": 16,
    "lenType": 16,
    "lenVar": 40
   },
   "kernels_config": {
    "python": {
     "delete_cmd_postfix": "",
     "delete_cmd_prefix": "del ",
     "library": "var_list.py",
     "varRefreshCmd": "print(var_dic_list())"
    },
    "r": {
     "delete_cmd_postfix": ") ",
     "delete_cmd_prefix": "rm(",
     "library": "var_list.r",
     "varRefreshCmd": "cat(var_dic_list()) "
    }
   },
   "types_to_exclude": [
    "module",
    "function",
    "builtin_function_or_method",
    "instance",
    "_Feature"
   ],
   "window_display": false
  }
 },
 "nbformat": 4,
 "nbformat_minor": 4
}
